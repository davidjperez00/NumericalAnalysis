{
 "cells": [
  {
   "cell_type": "markdown",
   "metadata": {},
   "source": [
    "# Second Neural Network Architecture test"
   ]
  },
  {
   "cell_type": "code",
   "execution_count": 81,
   "metadata": {},
   "outputs": [],
   "source": [
    "import pandas as pd\n",
    "import os\n",
    "import matplotlib.pyplot as plt\n",
    "from sklearn.preprocessing import OneHotEncoder\n",
    "import tensorflow as tf\n"
   ]
  },
  {
   "cell_type": "markdown",
   "metadata": {},
   "source": [
    "## Data Preprocessing"
   ]
  },
  {
   "cell_type": "code",
   "execution_count": 124,
   "metadata": {},
   "outputs": [
    {
     "data": {
      "text/html": [
       "<div>\n",
       "<style scoped>\n",
       "    .dataframe tbody tr th:only-of-type {\n",
       "        vertical-align: middle;\n",
       "    }\n",
       "\n",
       "    .dataframe tbody tr th {\n",
       "        vertical-align: top;\n",
       "    }\n",
       "\n",
       "    .dataframe thead th {\n",
       "        text-align: right;\n",
       "    }\n",
       "</style>\n",
       "<table border=\"1\" class=\"dataframe\">\n",
       "  <thead>\n",
       "    <tr style=\"text-align: right;\">\n",
       "      <th></th>\n",
       "      <th>name</th>\n",
       "      <th>year</th>\n",
       "      <th>selling_price</th>\n",
       "      <th>km_driven</th>\n",
       "      <th>fuel</th>\n",
       "      <th>seller_type</th>\n",
       "      <th>transmission</th>\n",
       "      <th>owner</th>\n",
       "    </tr>\n",
       "  </thead>\n",
       "  <tbody>\n",
       "    <tr>\n",
       "      <th>0</th>\n",
       "      <td>Maruti 800 AC</td>\n",
       "      <td>2007</td>\n",
       "      <td>60000</td>\n",
       "      <td>70000</td>\n",
       "      <td>Petrol</td>\n",
       "      <td>Individual</td>\n",
       "      <td>Manual</td>\n",
       "      <td>First Owner</td>\n",
       "    </tr>\n",
       "    <tr>\n",
       "      <th>1</th>\n",
       "      <td>Maruti Wagon R LXI Minor</td>\n",
       "      <td>2007</td>\n",
       "      <td>135000</td>\n",
       "      <td>50000</td>\n",
       "      <td>Petrol</td>\n",
       "      <td>Individual</td>\n",
       "      <td>Manual</td>\n",
       "      <td>First Owner</td>\n",
       "    </tr>\n",
       "    <tr>\n",
       "      <th>2</th>\n",
       "      <td>Hyundai Verna 1.6 SX</td>\n",
       "      <td>2012</td>\n",
       "      <td>600000</td>\n",
       "      <td>100000</td>\n",
       "      <td>Diesel</td>\n",
       "      <td>Individual</td>\n",
       "      <td>Manual</td>\n",
       "      <td>First Owner</td>\n",
       "    </tr>\n",
       "    <tr>\n",
       "      <th>3</th>\n",
       "      <td>Datsun RediGO T Option</td>\n",
       "      <td>2017</td>\n",
       "      <td>250000</td>\n",
       "      <td>46000</td>\n",
       "      <td>Petrol</td>\n",
       "      <td>Individual</td>\n",
       "      <td>Manual</td>\n",
       "      <td>First Owner</td>\n",
       "    </tr>\n",
       "    <tr>\n",
       "      <th>4</th>\n",
       "      <td>Honda Amaze VX i-DTEC</td>\n",
       "      <td>2014</td>\n",
       "      <td>450000</td>\n",
       "      <td>141000</td>\n",
       "      <td>Diesel</td>\n",
       "      <td>Individual</td>\n",
       "      <td>Manual</td>\n",
       "      <td>Second Owner</td>\n",
       "    </tr>\n",
       "  </tbody>\n",
       "</table>\n",
       "</div>"
      ],
      "text/plain": [
       "                       name  year  selling_price  km_driven    fuel   \n",
       "0             Maruti 800 AC  2007          60000      70000  Petrol  \\\n",
       "1  Maruti Wagon R LXI Minor  2007         135000      50000  Petrol   \n",
       "2      Hyundai Verna 1.6 SX  2012         600000     100000  Diesel   \n",
       "3    Datsun RediGO T Option  2017         250000      46000  Petrol   \n",
       "4     Honda Amaze VX i-DTEC  2014         450000     141000  Diesel   \n",
       "\n",
       "  seller_type transmission         owner  \n",
       "0  Individual       Manual   First Owner  \n",
       "1  Individual       Manual   First Owner  \n",
       "2  Individual       Manual   First Owner  \n",
       "3  Individual       Manual   First Owner  \n",
       "4  Individual       Manual  Second Owner  "
      ]
     },
     "execution_count": 124,
     "metadata": {},
     "output_type": "execute_result"
    }
   ],
   "source": [
    "def load_vehicle_data(vehicles_path='data'):\n",
    "  csv_path = os.path.join(vehicles_path, \"project_data.csv\")\n",
    "  return pd.read_csv(csv_path)\n",
    "\n",
    "vehicles = load_vehicle_data()\n",
    "vehicles.head()"
   ]
  },
  {
   "cell_type": "markdown",
   "metadata": {},
   "source": [
    "### Removing noisey data instances"
   ]
  },
  {
   "cell_type": "code",
   "execution_count": 83,
   "metadata": {},
   "outputs": [],
   "source": [
    "# Removing outlier vehicle prices that are dramatically outside standard deviation\n",
    "vehicles.drop(vehicles[vehicles['selling_price'] >= 1750000].index, inplace = True)\n",
    "\n",
    "# Removing 'Test Drive Car' instances since it's NOT numerically related to other owner types\n",
    "# AND NOT BEING USED FOR ONE HOT ENCODING\n",
    "vehicles.drop(vehicles[vehicles['owner'] == 'Test Drive Car'].index, inplace = True)\n",
    "\n",
    "# Since 'Electric' 'fuel' type since only 1 instance\n",
    "vehicles.drop(vehicles[vehicles['fuel'] == 'Electric'].index, inplace = True)"
   ]
  },
  {
   "cell_type": "markdown",
   "metadata": {},
   "source": [
    "### Convert categorical data to integers"
   ]
  },
  {
   "cell_type": "code",
   "execution_count": 84,
   "metadata": {},
   "outputs": [],
   "source": [
    "# CREATING INTEGERS OF NUMBER OF OWNWERS\n",
    "current_owner_strings = ['First Owner', 'Second Owner', 'Third Owner', 'Fourth & Above Owner']\n",
    "new_owner_strings = ['1', '2', '3', '4']\n",
    "vehicles['owner'] = vehicles['owner'].replace(current_owner_strings, new_owner_strings)\n",
    "vehicles['owner'] = vehicles['owner'].astype('int64') # Convert type to integers:\n",
    "\n",
    "\n",
    "# 0 index converting for category column's for future one-hot encoded data \n",
    "\n",
    "current_owner_strings = ['Petrol', 'Diesel', 'CNG', 'LPG']\n",
    "new_strings = ['0', '1', '2', '3']\n",
    "vehicles['fuel'] = vehicles['fuel'].replace(current_owner_strings, new_strings)\n",
    "vehicles['fuel'] = vehicles['fuel'].astype('int64')\n",
    "\n",
    "\n",
    "current_owner_strings = ['Individual', 'Dealer', 'Trustmark Dealer']\n",
    "new_strings = ['0', '1', '2']\n",
    "vehicles['seller_type'] = vehicles['seller_type'].replace(current_owner_strings, new_strings)\n",
    "vehicles['seller_type'] = vehicles['seller_type'].astype('int64')\n",
    "\n",
    "\n",
    "current_owner_strings = ['Manual', 'Automatic']\n",
    "new_strings = ['0', '1']\n",
    "vehicles['transmission'] = vehicles['transmission'].replace(current_owner_strings, new_strings)\n",
    "vehicles['transmission'] = vehicles['transmission'].astype('int64')\n"
   ]
  },
  {
   "cell_type": "code",
   "execution_count": 123,
   "metadata": {},
   "outputs": [
    {
     "data": {
      "text/html": [
       "<div>\n",
       "<style scoped>\n",
       "    .dataframe tbody tr th:only-of-type {\n",
       "        vertical-align: middle;\n",
       "    }\n",
       "\n",
       "    .dataframe tbody tr th {\n",
       "        vertical-align: top;\n",
       "    }\n",
       "\n",
       "    .dataframe thead th {\n",
       "        text-align: right;\n",
       "    }\n",
       "</style>\n",
       "<table border=\"1\" class=\"dataframe\">\n",
       "  <thead>\n",
       "    <tr style=\"text-align: right;\">\n",
       "      <th></th>\n",
       "      <th>name</th>\n",
       "      <th>year</th>\n",
       "      <th>selling_price</th>\n",
       "      <th>km_driven</th>\n",
       "      <th>fuel</th>\n",
       "      <th>seller_type</th>\n",
       "      <th>transmission</th>\n",
       "      <th>owner</th>\n",
       "    </tr>\n",
       "  </thead>\n",
       "  <tbody>\n",
       "    <tr>\n",
       "      <th>0</th>\n",
       "      <td>Maruti 800 AC</td>\n",
       "      <td>2007</td>\n",
       "      <td>60000</td>\n",
       "      <td>70000</td>\n",
       "      <td>0</td>\n",
       "      <td>0</td>\n",
       "      <td>0</td>\n",
       "      <td>1</td>\n",
       "    </tr>\n",
       "    <tr>\n",
       "      <th>1</th>\n",
       "      <td>Maruti Wagon R LXI Minor</td>\n",
       "      <td>2007</td>\n",
       "      <td>135000</td>\n",
       "      <td>50000</td>\n",
       "      <td>0</td>\n",
       "      <td>0</td>\n",
       "      <td>0</td>\n",
       "      <td>1</td>\n",
       "    </tr>\n",
       "    <tr>\n",
       "      <th>2</th>\n",
       "      <td>Hyundai Verna 1.6 SX</td>\n",
       "      <td>2012</td>\n",
       "      <td>600000</td>\n",
       "      <td>100000</td>\n",
       "      <td>1</td>\n",
       "      <td>0</td>\n",
       "      <td>0</td>\n",
       "      <td>1</td>\n",
       "    </tr>\n",
       "    <tr>\n",
       "      <th>3</th>\n",
       "      <td>Datsun RediGO T Option</td>\n",
       "      <td>2017</td>\n",
       "      <td>250000</td>\n",
       "      <td>46000</td>\n",
       "      <td>0</td>\n",
       "      <td>0</td>\n",
       "      <td>0</td>\n",
       "      <td>1</td>\n",
       "    </tr>\n",
       "    <tr>\n",
       "      <th>4</th>\n",
       "      <td>Honda Amaze VX i-DTEC</td>\n",
       "      <td>2014</td>\n",
       "      <td>450000</td>\n",
       "      <td>141000</td>\n",
       "      <td>1</td>\n",
       "      <td>0</td>\n",
       "      <td>0</td>\n",
       "      <td>2</td>\n",
       "    </tr>\n",
       "  </tbody>\n",
       "</table>\n",
       "</div>"
      ],
      "text/plain": [
       "                       name  year  selling_price  km_driven  fuel   \n",
       "0             Maruti 800 AC  2007          60000      70000     0  \\\n",
       "1  Maruti Wagon R LXI Minor  2007         135000      50000     0   \n",
       "2      Hyundai Verna 1.6 SX  2012         600000     100000     1   \n",
       "3    Datsun RediGO T Option  2017         250000      46000     0   \n",
       "4     Honda Amaze VX i-DTEC  2014         450000     141000     1   \n",
       "\n",
       "   seller_type  transmission  owner  \n",
       "0            0             0      1  \n",
       "1            0             0      1  \n",
       "2            0             0      1  \n",
       "3            0             0      1  \n",
       "4            0             0      2  "
      ]
     },
     "execution_count": 123,
     "metadata": {},
     "output_type": "execute_result"
    }
   ],
   "source": [
    "vehicles.head()"
   ]
  },
  {
   "cell_type": "markdown",
   "metadata": {},
   "source": [
    "### Split 20% of data into 'test_set'"
   ]
  },
  {
   "cell_type": "code",
   "execution_count": 86,
   "metadata": {},
   "outputs": [],
   "source": [
    "from sklearn.model_selection import train_test_split\n",
    "\n",
    "train_set, test_set = train_test_split(vehicles, test_size=0.2, random_state=42)"
   ]
  },
  {
   "cell_type": "code",
   "execution_count": 126,
   "metadata": {},
   "outputs": [
    {
     "name": "stdout",
     "output_type": "stream",
     "text": [
      "839\n",
      "3355\n"
     ]
    }
   ],
   "source": [
    "print(len(test_set))\n",
    "print(len(train_set))"
   ]
  },
  {
   "cell_type": "markdown",
   "metadata": {},
   "source": [
    "### Create further subsets for multi input model"
   ]
  },
  {
   "cell_type": "code",
   "execution_count": 87,
   "metadata": {},
   "outputs": [],
   "source": [
    "# Helper function to create a new data set containing 'data_set'\n",
    "# elements in 'column_name_str' of data set and remove\n",
    "# that column from 'data_set' input\n",
    "def extract_data_column_inplace(data_set, column_name_str):\n",
    "  data_column = data_set[[column_name_str]].copy()\n",
    "  data_set.drop([column_name_str], axis=1, inplace = True)\n",
    "\n",
    "  return data_column"
   ]
  },
  {
   "cell_type": "markdown",
   "metadata": {},
   "source": [
    "Extract categorical data (`fuel`, `seller_type`, `transmission`) to be one hot encoded by model"
   ]
  },
  {
   "cell_type": "code",
   "execution_count": 88,
   "metadata": {},
   "outputs": [],
   "source": [
    "# Copying and deleting data for one hot coding portion of model\n",
    "train_set_one_hot_fuel = extract_data_column_inplace(train_set, 'fuel')\n",
    "train_set_one_hot_seller_type = extract_data_column_inplace(train_set, 'seller_type')\n",
    "train_set_one_hot_transmission = extract_data_column_inplace(train_set, 'transmission')\n",
    "\n",
    "test_set_one_hot_fuel = extract_data_column_inplace(test_set, 'fuel')\n",
    "test_set_one_hot_seller_type = extract_data_column_inplace(test_set, 'seller_type')\n",
    "test_set_one_hot_transmission = extract_data_column_inplace(test_set, 'transmission')"
   ]
  },
  {
   "cell_type": "markdown",
   "metadata": {},
   "source": [
    "Removing `name` attribute column from train_set/test_set"
   ]
  },
  {
   "cell_type": "code",
   "execution_count": 89,
   "metadata": {},
   "outputs": [],
   "source": [
    "train_set_names = extract_data_column_inplace(train_set, 'name')\n",
    "test_set_names = extract_data_column_inplace(test_set, 'name')"
   ]
  },
  {
   "cell_type": "markdown",
   "metadata": {},
   "source": [
    "Extracting `selling_price` column as labels"
   ]
  },
  {
   "cell_type": "code",
   "execution_count": 90,
   "metadata": {},
   "outputs": [],
   "source": [
    "train_set_labels = extract_data_column_inplace(train_set, 'selling_price')\n",
    "test_set_labels = extract_data_column_inplace(test_set, 'selling_price')"
   ]
  },
  {
   "cell_type": "markdown",
   "metadata": {},
   "source": [
    "Show new subset results of as they pertain to the train_set"
   ]
  },
  {
   "cell_type": "code",
   "execution_count": 91,
   "metadata": {},
   "outputs": [
    {
     "name": "stdout",
     "output_type": "stream",
     "text": [
      "train_set: \n",
      " Index(['year', 'km_driven', 'owner'], dtype='object')\n",
      "train_set_one_hot_fuel: \n",
      " Index(['fuel'], dtype='object')\n",
      "train_set_one_hot_seller_type: \n",
      " Index(['seller_type'], dtype='object')\n",
      "train_set_one_hot_transmission: \n",
      " Index(['transmission'], dtype='object')\n",
      "train_set_names: \n",
      " Index(['name'], dtype='object')\n",
      "train_set_labels: \n",
      " Index(['selling_price'], dtype='object')\n"
     ]
    }
   ],
   "source": [
    "# Could also compare using .head()\n",
    "print(\"train_set: \\r\\n\", train_set.columns)\n",
    "print(\"train_set_one_hot_fuel: \\r\\n\", train_set_one_hot_fuel.columns) \n",
    "print(\"train_set_one_hot_seller_type: \\r\\n\", train_set_one_hot_seller_type.columns) \n",
    "print(\"train_set_one_hot_transmission: \\r\\n\", train_set_one_hot_transmission.columns) \n",
    "print('train_set_names: \\r\\n', train_set_names.columns)\n",
    "print('train_set_labels: \\r\\n', train_set_labels.columns)"
   ]
  },
  {
   "cell_type": "markdown",
   "metadata": {},
   "source": [
    "### `Mean Normalization` for numerical attributes to ensure attributes are equally weighted when passed into machine leanring model"
   ]
  },
  {
   "cell_type": "code",
   "execution_count": 92,
   "metadata": {},
   "outputs": [
    {
     "data": {
      "text/html": [
       "<div>\n",
       "<style scoped>\n",
       "    .dataframe tbody tr th:only-of-type {\n",
       "        vertical-align: middle;\n",
       "    }\n",
       "\n",
       "    .dataframe tbody tr th {\n",
       "        vertical-align: top;\n",
       "    }\n",
       "\n",
       "    .dataframe thead th {\n",
       "        text-align: right;\n",
       "    }\n",
       "</style>\n",
       "<table border=\"1\" class=\"dataframe\">\n",
       "  <thead>\n",
       "    <tr style=\"text-align: right;\">\n",
       "      <th></th>\n",
       "      <th>year</th>\n",
       "      <th>km_driven</th>\n",
       "      <th>owner</th>\n",
       "    </tr>\n",
       "  </thead>\n",
       "  <tbody>\n",
       "    <tr>\n",
       "      <th>2846</th>\n",
       "      <td>2012</td>\n",
       "      <td>62000</td>\n",
       "      <td>2</td>\n",
       "    </tr>\n",
       "    <tr>\n",
       "      <th>1249</th>\n",
       "      <td>2016</td>\n",
       "      <td>40000</td>\n",
       "      <td>1</td>\n",
       "    </tr>\n",
       "    <tr>\n",
       "      <th>4147</th>\n",
       "      <td>2013</td>\n",
       "      <td>49000</td>\n",
       "      <td>2</td>\n",
       "    </tr>\n",
       "    <tr>\n",
       "      <th>1904</th>\n",
       "      <td>2018</td>\n",
       "      <td>1452</td>\n",
       "      <td>1</td>\n",
       "    </tr>\n",
       "    <tr>\n",
       "      <th>3683</th>\n",
       "      <td>2015</td>\n",
       "      <td>70000</td>\n",
       "      <td>1</td>\n",
       "    </tr>\n",
       "  </tbody>\n",
       "</table>\n",
       "</div>"
      ],
      "text/plain": [
       "      year  km_driven  owner\n",
       "2846  2012      62000      2\n",
       "1249  2016      40000      1\n",
       "4147  2013      49000      2\n",
       "1904  2018       1452      1\n",
       "3683  2015      70000      1"
      ]
     },
     "execution_count": 92,
     "metadata": {},
     "output_type": "execute_result"
    }
   ],
   "source": [
    "train_set.head()"
   ]
  },
  {
   "cell_type": "code",
   "execution_count": null,
   "metadata": {},
   "outputs": [],
   "source": [
    "# train_data = train_set['year','km_driven', 'owner']\n",
    "# train_label = train"
   ]
  },
  {
   "cell_type": "code",
   "execution_count": 120,
   "metadata": {},
   "outputs": [
    {
     "name": "stdout",
     "output_type": "stream",
     "text": [
      "['year' 'km_driven' 'owner' 'year^2' 'year km_driven' 'year owner'\n",
      " 'km_driven^2' 'km_driven owner' 'owner^2']\n"
     ]
    }
   ],
   "source": [
    "from sklearn.preprocessing import PolynomialFeatures\n",
    "poly = PolynomialFeatures(degree=2, include_bias=False)\n",
    "X_poly = poly.fit(train_set, train_set_labels) \n",
    "print(X_poly.get_feature_names_out(train_set.columns))"
   ]
  },
  {
   "cell_type": "code",
   "execution_count": null,
   "metadata": {},
   "outputs": [],
   "source": [
    "# lin_reg = LinearRegression()\n",
    "# lin_reg.fit(X_poly, y)\n",
    "\n",
    "X_poly.intercept_, X_poly.coef_"
   ]
  },
  {
   "cell_type": "code",
   "execution_count": 93,
   "metadata": {},
   "outputs": [],
   "source": [
    "normalized_train_set = (train_set-train_set.mean())/train_set.std()\n",
    "normalized_test_set = (test_set-test_set.mean())/test_set.std()"
   ]
  },
  {
   "cell_type": "code",
   "execution_count": 94,
   "metadata": {},
   "outputs": [
    {
     "data": {
      "text/html": [
       "<div>\n",
       "<style scoped>\n",
       "    .dataframe tbody tr th:only-of-type {\n",
       "        vertical-align: middle;\n",
       "    }\n",
       "\n",
       "    .dataframe tbody tr th {\n",
       "        vertical-align: top;\n",
       "    }\n",
       "\n",
       "    .dataframe thead th {\n",
       "        text-align: right;\n",
       "    }\n",
       "</style>\n",
       "<table border=\"1\" class=\"dataframe\">\n",
       "  <thead>\n",
       "    <tr style=\"text-align: right;\">\n",
       "      <th></th>\n",
       "      <th>year</th>\n",
       "      <th>km_driven</th>\n",
       "      <th>owner</th>\n",
       "    </tr>\n",
       "  </thead>\n",
       "  <tbody>\n",
       "    <tr>\n",
       "      <th>2846</th>\n",
       "      <td>-0.230543</td>\n",
       "      <td>-0.101340</td>\n",
       "      <td>0.746987</td>\n",
       "    </tr>\n",
       "    <tr>\n",
       "      <th>1249</th>\n",
       "      <td>0.722007</td>\n",
       "      <td>-0.586263</td>\n",
       "      <td>-0.650749</td>\n",
       "    </tr>\n",
       "    <tr>\n",
       "      <th>4147</th>\n",
       "      <td>0.007595</td>\n",
       "      <td>-0.387886</td>\n",
       "      <td>0.746987</td>\n",
       "    </tr>\n",
       "    <tr>\n",
       "      <th>1904</th>\n",
       "      <td>1.198282</td>\n",
       "      <td>-1.435936</td>\n",
       "      <td>-0.650749</td>\n",
       "    </tr>\n",
       "    <tr>\n",
       "      <th>3683</th>\n",
       "      <td>0.483870</td>\n",
       "      <td>0.074995</td>\n",
       "      <td>-0.650749</td>\n",
       "    </tr>\n",
       "  </tbody>\n",
       "</table>\n",
       "</div>"
      ],
      "text/plain": [
       "          year  km_driven     owner\n",
       "2846 -0.230543  -0.101340  0.746987\n",
       "1249  0.722007  -0.586263 -0.650749\n",
       "4147  0.007595  -0.387886  0.746987\n",
       "1904  1.198282  -1.435936 -0.650749\n",
       "3683  0.483870   0.074995 -0.650749"
      ]
     },
     "execution_count": 94,
     "metadata": {},
     "output_type": "execute_result"
    }
   ],
   "source": [
    "normalized_train_set.head()"
   ]
  },
  {
   "cell_type": "markdown",
   "metadata": {},
   "source": [
    "## Transforming data into tensors for neural net architecture"
   ]
  },
  {
   "cell_type": "code",
   "execution_count": 95,
   "metadata": {},
   "outputs": [],
   "source": [
    "train_set_tensor = tf.convert_to_tensor(normalized_train_set)\n",
    "train_set_one_hot_fuel_tensor = tf.convert_to_tensor(train_set_one_hot_fuel)\n",
    "train_set_one_hot_seller_type_tensor = tf.convert_to_tensor(train_set_one_hot_seller_type)\n",
    "train_set_one_hot_transmission_tensor = tf.convert_to_tensor(train_set_one_hot_transmission)\n",
    "train_set_names_tensor = tf.convert_to_tensor(train_set_names)\n",
    "train_set_labels_tensor = tf.convert_to_tensor(train_set_labels)\n",
    "\n",
    "\n",
    "test_set_tensor = tf.convert_to_tensor(normalized_test_set)\n",
    "test_set_one_hot_fuel_tensor = tf.convert_to_tensor(test_set_one_hot_fuel)\n",
    "test_set_one_hot_seller_type_tensor = tf.convert_to_tensor(test_set_one_hot_seller_type)\n",
    "test_set_one_hot_transmission_tensor = tf.convert_to_tensor(test_set_one_hot_transmission)\n",
    "test_set_names_tensor = tf.convert_to_tensor(test_set_names)\n",
    "test_set_labels_tensor = tf.convert_to_tensor(test_set_labels)"
   ]
  },
  {
   "cell_type": "markdown",
   "metadata": {},
   "source": [
    "# Create Model Architecture"
   ]
  },
  {
   "cell_type": "markdown",
   "metadata": {},
   "source": [
    "## Model inputs [numerical values, fuel, seller_type, transmission, name], labels"
   ]
  },
  {
   "cell_type": "code",
   "execution_count": 96,
   "metadata": {},
   "outputs": [],
   "source": [
    "import numpy as np"
   ]
  },
  {
   "cell_type": "code",
   "execution_count": 97,
   "metadata": {},
   "outputs": [
    {
     "name": "stderr",
     "output_type": "stream",
     "text": [
      "WARNING:absl:At this time, the v2.11+ optimizer `tf.keras.optimizers.Adam` runs slowly on M1/M2 Macs, please use the legacy Keras optimizer instead, located at `tf.keras.optimizers.legacy.Adam`.\n",
      "WARNING:absl:There is a known slowdown when using v2.11+ Keras optimizers on M1/M2 Macs. Falling back to the legacy Keras optimizer, i.e., `tf.keras.optimizers.legacy.Adam`.\n"
     ]
    }
   ],
   "source": [
    "tf.keras.backend.clear_session()\n",
    "tf.random.set_seed(42)\n",
    "np.random.seed(42)\n",
    "\n",
    "# Globals for word embedding's\n",
    "EMBEDDING_DIMMENSIONS = 50\n",
    "VOCARB_SIZE = 1550 # about 1427 unique names identified in dataset\n",
    "MAX_LENGTH = 40 # approximate the largest vehicle name string\n",
    "\n",
    "\n",
    "''' Handle data attributes ['year', 'km_driven', 'owner'] '''\n",
    "numerical_inputs = tf.keras.layers.Input(shape=[3], dtype=tf.float32, name='year_kmDriven_owner_attributes')\n",
    "# batch_numeric = tf.keras.layers.BatchNormalization()(numerical_inputs)\n",
    "\n",
    "\n",
    "''' Handle 'name' attribute '''\n",
    "name_inputs = tf.keras.layers.Input(shape=[], dtype=tf.string, name='name_attribute')\n",
    "\n",
    "# Use the text vectorization layer to normalize, split, and map strings to\n",
    "# integers. Set maximum_sequence length as all samples are not of the same length.\n",
    "vectorize_layer = tf.keras.layers.TextVectorization(\n",
    "    max_tokens=VOCARB_SIZE,\n",
    "    output_mode='int',\n",
    "    output_sequence_length=MAX_LENGTH)\n",
    "vectorize_layer.adapt(train_set_names) # Create vector table for data\n",
    "# vectorize_layer.adapt(test_set_names)\n",
    "\n",
    "vectorized_input = vectorize_layer(name_inputs)\n",
    "name_embed = tf.keras.layers.Embedding(input_length=MAX_LENGTH, input_dim=VOCARB_SIZE, output_dim=EMBEDDING_DIMMENSIONS, name='embedding')(vectorized_input)\n",
    "flattened_embedding = tf.keras.layers.Flatten()(name_embed)\n",
    "\n",
    "\n",
    "''' Handle each one hot encoded input'''\n",
    "# Handle and encode 'fuel' data\n",
    "one_hot_input_fuel = tf.keras.layers.Input(shape=[1], dtype=tf.int64, name='fuel_attribute')\n",
    "one_hot_encoder_fuel = tf.keras.layers.CategoryEncoding(num_tokens=4, output_mode='one_hot')(one_hot_input_fuel)\n",
    "\n",
    "# Handle and encode 'seller_type' data\n",
    "one_hot_input_seller_type = tf.keras.layers.Input(shape=[1], dtype=tf.int64, name='seller_type_attribute')\n",
    "one_hot_encoder_seller_type = tf.keras.layers.CategoryEncoding(num_tokens=3, output_mode='one_hot')(one_hot_input_seller_type)\n",
    "\n",
    "# Handle and encode 'seller_type' data\n",
    "one_hot_input_transmission = tf.keras.layers.Input(shape=[1], dtype=tf.int64, name='transmission_attribute')\n",
    "one_hot_encoder_transmission  = tf.keras.layers.CategoryEncoding(num_tokens=2, output_mode='one_hot')(one_hot_input_transmission)\n",
    "\n",
    "\n",
    "''' Concatenate all data inputs together '''\n",
    "all_inputs = tf.keras.layers.Concatenate()([flattened_embedding, numerical_inputs, one_hot_encoder_fuel, one_hot_encoder_seller_type, one_hot_encoder_transmission])\n",
    "\n",
    "\n",
    "''' MODEL BODY  '''\n",
    "first_dense = tf.keras.layers.Dense(512, kernel_initializer='he_normal', activation='relu')(all_inputs)\n",
    "second_dense = tf.keras.layers.Dense(256, kernel_initializer='he_normal', activation='relu')(first_dense)\n",
    "third_dense = tf.keras.layers.Dense(128, kernel_initializer='he_normal', activation='relu')(second_dense)\n",
    "fourth_dense = tf.keras.layers.Dense(64, kernel_initializer='he_normal', activation='relu')(third_dense)\n",
    "fifth_dense = tf.keras.layers.Dense(32, kernel_initializer='he_normal', activation='relu')(fourth_dense)\n",
    "sixth_dense = tf.keras.layers.Dense(8, kernel_initializer='he_normal', activation='relu')(fifth_dense)\n",
    "seventh_dense = tf.keras.layers.Dense(4, kernel_initializer='he_normal', activation='relu')(sixth_dense)\n",
    "output = tf.keras.layers.Dense(1, activation='linear')(seventh_dense)\n",
    "model = tf.keras.Model(inputs=[name_inputs, numerical_inputs , one_hot_input_fuel, one_hot_input_seller_type, one_hot_input_transmission], outputs=[output])\n",
    "ad_optimizer = tf.keras.optimizers.Adam(learning_rate=0.0008)\n",
    "model.compile(optimizer=ad_optimizer, loss=\"mean_squared_error\")"
   ]
  },
  {
   "cell_type": "code",
   "execution_count": 98,
   "metadata": {},
   "outputs": [
    {
     "name": "stdout",
     "output_type": "stream",
     "text": [
      "Epoch 1/140\n",
      "84/84 [==============================] - 1s 5ms/step - loss: 233117138944.0000 - val_loss: 103126130688.0000\n",
      "Epoch 2/140\n",
      "84/84 [==============================] - 0s 4ms/step - loss: 86954786816.0000 - val_loss: 83530530816.0000\n",
      "Epoch 3/140\n",
      "84/84 [==============================] - 0s 4ms/step - loss: 68944060416.0000 - val_loss: 56046735360.0000\n",
      "Epoch 4/140\n",
      "84/84 [==============================] - 0s 4ms/step - loss: 40462192640.0000 - val_loss: 33439838208.0000\n",
      "Epoch 5/140\n",
      "84/84 [==============================] - 0s 4ms/step - loss: 27118729216.0000 - val_loss: 23884865536.0000\n",
      "Epoch 6/140\n",
      "84/84 [==============================] - 0s 4ms/step - loss: 20348694528.0000 - val_loss: 20271435776.0000\n",
      "Epoch 7/140\n",
      "84/84 [==============================] - 0s 4ms/step - loss: 16083319808.0000 - val_loss: 18090450944.0000\n",
      "Epoch 8/140\n",
      "84/84 [==============================] - 0s 4ms/step - loss: 13455514624.0000 - val_loss: 15769040896.0000\n",
      "Epoch 9/140\n",
      "84/84 [==============================] - 0s 4ms/step - loss: 11595101184.0000 - val_loss: 14985057280.0000\n",
      "Epoch 10/140\n",
      "84/84 [==============================] - 0s 4ms/step - loss: 10374913024.0000 - val_loss: 15164040192.0000\n",
      "Epoch 11/140\n",
      "84/84 [==============================] - 0s 4ms/step - loss: 9553186816.0000 - val_loss: 14320304128.0000\n",
      "Epoch 12/140\n",
      "84/84 [==============================] - 0s 4ms/step - loss: 8892951552.0000 - val_loss: 13520567296.0000\n",
      "Epoch 13/140\n",
      "84/84 [==============================] - 0s 4ms/step - loss: 8502140928.0000 - val_loss: 12971058176.0000\n",
      "Epoch 14/140\n",
      "84/84 [==============================] - 0s 5ms/step - loss: 8088098816.0000 - val_loss: 13244453888.0000\n",
      "Epoch 15/140\n",
      "84/84 [==============================] - 0s 4ms/step - loss: 7535374848.0000 - val_loss: 13290982400.0000\n",
      "Epoch 16/140\n",
      "84/84 [==============================] - 0s 4ms/step - loss: 7226132480.0000 - val_loss: 12373607424.0000\n",
      "Epoch 17/140\n",
      "84/84 [==============================] - 0s 4ms/step - loss: 7000638976.0000 - val_loss: 12562241536.0000\n",
      "Epoch 18/140\n",
      "84/84 [==============================] - 0s 4ms/step - loss: 6822248960.0000 - val_loss: 12351130624.0000\n",
      "Epoch 19/140\n",
      "84/84 [==============================] - 0s 4ms/step - loss: 6690693120.0000 - val_loss: 11990607872.0000\n",
      "Epoch 20/140\n",
      "84/84 [==============================] - 0s 5ms/step - loss: 6419010560.0000 - val_loss: 11907048448.0000\n",
      "Epoch 21/140\n",
      "84/84 [==============================] - 0s 4ms/step - loss: 6315435008.0000 - val_loss: 11808482304.0000\n",
      "Epoch 22/140\n",
      "84/84 [==============================] - 0s 5ms/step - loss: 6121277440.0000 - val_loss: 12522577920.0000\n",
      "Epoch 23/140\n",
      "84/84 [==============================] - 0s 4ms/step - loss: 6020701184.0000 - val_loss: 11538747392.0000\n",
      "Epoch 24/140\n",
      "84/84 [==============================] - 0s 4ms/step - loss: 5908072448.0000 - val_loss: 11697321984.0000\n",
      "Epoch 25/140\n",
      "84/84 [==============================] - 0s 4ms/step - loss: 5832891904.0000 - val_loss: 11269918720.0000\n",
      "Epoch 26/140\n",
      "84/84 [==============================] - 0s 5ms/step - loss: 5713161728.0000 - val_loss: 11295753216.0000\n",
      "Epoch 27/140\n",
      "84/84 [==============================] - 0s 4ms/step - loss: 5607173120.0000 - val_loss: 11063918592.0000\n",
      "Epoch 28/140\n",
      "84/84 [==============================] - 0s 4ms/step - loss: 5930428928.0000 - val_loss: 12285930496.0000\n",
      "Epoch 29/140\n",
      "84/84 [==============================] - 0s 4ms/step - loss: 5505443840.0000 - val_loss: 11281125376.0000\n",
      "Epoch 30/140\n",
      "84/84 [==============================] - 0s 4ms/step - loss: 5374130688.0000 - val_loss: 11604450304.0000\n",
      "Epoch 31/140\n",
      "84/84 [==============================] - 0s 4ms/step - loss: 5375933952.0000 - val_loss: 11792956416.0000\n",
      "Epoch 32/140\n",
      "84/84 [==============================] - 0s 4ms/step - loss: 5267311616.0000 - val_loss: 11805399040.0000\n",
      "Epoch 33/140\n",
      "84/84 [==============================] - 0s 4ms/step - loss: 5284420608.0000 - val_loss: 11298400256.0000\n",
      "Epoch 34/140\n",
      "84/84 [==============================] - 0s 4ms/step - loss: 5148022272.0000 - val_loss: 10934608896.0000\n",
      "Epoch 35/140\n",
      "84/84 [==============================] - 0s 5ms/step - loss: 5193011200.0000 - val_loss: 11043758080.0000\n",
      "Epoch 36/140\n",
      "84/84 [==============================] - 0s 5ms/step - loss: 5087531520.0000 - val_loss: 11040867328.0000\n",
      "Epoch 37/140\n",
      "84/84 [==============================] - 0s 5ms/step - loss: 5034240512.0000 - val_loss: 11055956992.0000\n",
      "Epoch 38/140\n",
      "84/84 [==============================] - 0s 5ms/step - loss: 5160566784.0000 - val_loss: 10795858944.0000\n",
      "Epoch 39/140\n",
      "84/84 [==============================] - 0s 4ms/step - loss: 4989981696.0000 - val_loss: 11098833920.0000\n",
      "Epoch 40/140\n",
      "84/84 [==============================] - 0s 5ms/step - loss: 5181249536.0000 - val_loss: 12399152128.0000\n",
      "Epoch 41/140\n",
      "84/84 [==============================] - 0s 5ms/step - loss: 4991735296.0000 - val_loss: 10902313984.0000\n",
      "Epoch 42/140\n",
      "84/84 [==============================] - 0s 5ms/step - loss: 4877191680.0000 - val_loss: 10896000000.0000\n",
      "Epoch 43/140\n",
      "84/84 [==============================] - 0s 5ms/step - loss: 4865147392.0000 - val_loss: 10836361216.0000\n",
      "Epoch 44/140\n",
      "84/84 [==============================] - 0s 4ms/step - loss: 4737896448.0000 - val_loss: 10817780736.0000\n",
      "Epoch 45/140\n",
      "84/84 [==============================] - 0s 4ms/step - loss: 4749969920.0000 - val_loss: 10852212736.0000\n",
      "Epoch 46/140\n",
      "84/84 [==============================] - 0s 4ms/step - loss: 4985789952.0000 - val_loss: 10739384320.0000\n",
      "Epoch 47/140\n",
      "84/84 [==============================] - 0s 4ms/step - loss: 4716124672.0000 - val_loss: 11112431616.0000\n",
      "Epoch 48/140\n",
      "84/84 [==============================] - 0s 5ms/step - loss: 4776376320.0000 - val_loss: 10979050496.0000\n",
      "Epoch 49/140\n",
      "84/84 [==============================] - 0s 5ms/step - loss: 4731543552.0000 - val_loss: 10841644032.0000\n",
      "Epoch 50/140\n",
      "84/84 [==============================] - 0s 4ms/step - loss: 4733706752.0000 - val_loss: 11028926464.0000\n",
      "Epoch 51/140\n",
      "84/84 [==============================] - 0s 4ms/step - loss: 4630500864.0000 - val_loss: 10852564992.0000\n",
      "Epoch 52/140\n",
      "84/84 [==============================] - 0s 4ms/step - loss: 4691356672.0000 - val_loss: 10880864256.0000\n",
      "Epoch 53/140\n",
      "84/84 [==============================] - 0s 4ms/step - loss: 4764342784.0000 - val_loss: 10739108864.0000\n",
      "Epoch 54/140\n",
      "84/84 [==============================] - 0s 4ms/step - loss: 4646453760.0000 - val_loss: 10812258304.0000\n",
      "Epoch 55/140\n",
      "84/84 [==============================] - 0s 4ms/step - loss: 4711165440.0000 - val_loss: 10824829952.0000\n",
      "Epoch 56/140\n",
      "84/84 [==============================] - 0s 4ms/step - loss: 4560608768.0000 - val_loss: 10816248832.0000\n",
      "Epoch 57/140\n",
      "84/84 [==============================] - 0s 4ms/step - loss: 4534530560.0000 - val_loss: 10730851328.0000\n",
      "Epoch 58/140\n",
      "84/84 [==============================] - 0s 4ms/step - loss: 4527550976.0000 - val_loss: 11380277248.0000\n",
      "Epoch 59/140\n",
      "84/84 [==============================] - 0s 4ms/step - loss: 4497991168.0000 - val_loss: 12337025024.0000\n",
      "Epoch 60/140\n",
      "84/84 [==============================] - 0s 4ms/step - loss: 4746425344.0000 - val_loss: 10559609856.0000\n",
      "Epoch 61/140\n",
      "84/84 [==============================] - 0s 4ms/step - loss: 4502385152.0000 - val_loss: 10874613760.0000\n",
      "Epoch 62/140\n",
      "84/84 [==============================] - 0s 4ms/step - loss: 4484843008.0000 - val_loss: 11124429824.0000\n",
      "Epoch 63/140\n",
      "84/84 [==============================] - 0s 4ms/step - loss: 4380007424.0000 - val_loss: 10962301952.0000\n",
      "Epoch 64/140\n",
      "84/84 [==============================] - 0s 4ms/step - loss: 4412681216.0000 - val_loss: 10653230080.0000\n",
      "Epoch 65/140\n",
      "84/84 [==============================] - 0s 4ms/step - loss: 4393072640.0000 - val_loss: 10777748480.0000\n",
      "Epoch 66/140\n",
      "84/84 [==============================] - 0s 4ms/step - loss: 4314107904.0000 - val_loss: 11890490368.0000\n",
      "Epoch 67/140\n",
      "84/84 [==============================] - 0s 4ms/step - loss: 4553958400.0000 - val_loss: 10845215744.0000\n",
      "Epoch 68/140\n",
      "84/84 [==============================] - 0s 4ms/step - loss: 4409775616.0000 - val_loss: 11346828288.0000\n",
      "Epoch 69/140\n",
      "84/84 [==============================] - 0s 4ms/step - loss: 4388085760.0000 - val_loss: 10707638272.0000\n",
      "Epoch 70/140\n",
      "84/84 [==============================] - 0s 4ms/step - loss: 4460389888.0000 - val_loss: 11170502656.0000\n",
      "Epoch 71/140\n",
      "84/84 [==============================] - 0s 4ms/step - loss: 4307129344.0000 - val_loss: 11029270528.0000\n",
      "Epoch 72/140\n",
      "84/84 [==============================] - 0s 4ms/step - loss: 4346697728.0000 - val_loss: 11558223872.0000\n",
      "Epoch 73/140\n",
      "84/84 [==============================] - 0s 4ms/step - loss: 4291863296.0000 - val_loss: 10873676800.0000\n",
      "Epoch 74/140\n",
      "84/84 [==============================] - 0s 4ms/step - loss: 4354906112.0000 - val_loss: 10718194688.0000\n",
      "Epoch 75/140\n",
      "84/84 [==============================] - 0s 4ms/step - loss: 4211981312.0000 - val_loss: 10920708096.0000\n",
      "Epoch 76/140\n",
      "84/84 [==============================] - 0s 4ms/step - loss: 4212801280.0000 - val_loss: 11038426112.0000\n",
      "Epoch 77/140\n",
      "84/84 [==============================] - 0s 4ms/step - loss: 4275489024.0000 - val_loss: 12552695808.0000\n",
      "Epoch 78/140\n",
      "84/84 [==============================] - 0s 4ms/step - loss: 4319815168.0000 - val_loss: 11362424832.0000\n",
      "Epoch 79/140\n",
      "84/84 [==============================] - 0s 4ms/step - loss: 4318631424.0000 - val_loss: 11214996480.0000\n",
      "Epoch 80/140\n",
      "84/84 [==============================] - 0s 4ms/step - loss: 4265958400.0000 - val_loss: 10711967744.0000\n"
     ]
    }
   ],
   "source": [
    "early_stopping_cb = tf.keras.callbacks.EarlyStopping(monitor='loss', patience=5)\n",
    "# history = model.fit([train_set_names_tensor, train_set_tensor, train_set_one_hot_fuel_tensor, train_set_one_hot_seller_type_tensor, train_set_one_hot_transmission_tensor], train_set_labels_tensor, callbacks=[early_stopping_cb], epochs=140, batch_size=32)\n",
    "\n",
    "# Training with validation split\n",
    "history = model.fit([train_set_names_tensor , train_set_tensor, train_set_one_hot_fuel_tensor, train_set_one_hot_seller_type_tensor, train_set_one_hot_transmission_tensor], train_set_labels_tensor, validation_split=0.2, callbacks=[early_stopping_cb], epochs=140, batch_size=32)"
   ]
  },
  {
   "cell_type": "code",
   "execution_count": 99,
   "metadata": {},
   "outputs": [
    {
     "data": {
      "image/png": "[encoded data removed]",
      "text/plain": [
       "<Figure size 640x480 with 1 Axes>"
      ]
     },
     "metadata": {},
     "output_type": "display_data"
    }
   ],
   "source": [
    "plt.plot(history.history['loss'])\n",
    "plt.plot(history.history['val_loss'])\n",
    "plt.legend(['train', 'validation'], loc='upper left')\n",
    "\n",
    "plt.show()"
   ]
  },
  {
   "cell_type": "code",
   "execution_count": 100,
   "metadata": {},
   "outputs": [
    {
     "name": "stdout",
     "output_type": "stream",
     "text": [
      "27/27 [==============================] - 0s 2ms/step\n",
      "AVERAGE PERCENTAGE ERROR =  [21.21396685]\n"
     ]
    }
   ],
   "source": [
    "index = 0\n",
    "percentage_totals = 0\n",
    "for item in model.predict([test_set_names_tensor, test_set_tensor, test_set_one_hot_fuel_tensor, test_set_one_hot_seller_type_tensor, test_set_one_hot_transmission_tensor]):\n",
    "  # print(f'(predicted, actual) = ({item[0]},{test_set_labels_tensor[index].numpy()})')\n",
    "  # print(f\"predicted - actual = {item[0] - test_set_labels_tensor[index].numpy()}\")\n",
    "\n",
    "  percentage_error = ((test_set_labels_tensor[index].numpy() - item[0]) / test_set_labels_tensor[index].numpy() ) * 100\n",
    "  # print(\"percentage_error = \", percentage_error)\n",
    "\n",
    "  percentage_totals += abs(percentage_error)\n",
    "  \n",
    "  index += 1\n",
    "\n",
    "\n",
    "\n",
    "print(\"AVERAGE PERCENTAGE ERROR = \", percentage_totals / len(test_set_labels_tensor))"
   ]
  },
  {
   "cell_type": "code",
   "execution_count": 101,
   "metadata": {},
   "outputs": [
    {
     "name": "stdout",
     "output_type": "stream",
     "text": [
      "You must install pydot (`pip install pydot`) and install graphviz (see instructions at https://graphviz.gitlab.io/download/) for plot_model to work.\n"
     ]
    }
   ],
   "source": [
    "tf.keras.utils.plot_model(model, show_shapes=True)"
   ]
  },
  {
   "cell_type": "markdown",
   "metadata": {},
   "source": [
    "## Saving Model and Training data"
   ]
  },
  {
   "cell_type": "code",
   "execution_count": 102,
   "metadata": {},
   "outputs": [
    {
     "name": "stdout",
     "output_type": "stream",
     "text": [
      "INFO:tensorflow:Assets written to: model_20_4_percentage_error/assets\n"
     ]
    },
    {
     "name": "stderr",
     "output_type": "stream",
     "text": [
      "INFO:tensorflow:Assets written to: model_20_4_percentage_error/assets\n"
     ]
    }
   ],
   "source": [
    "tf.keras.Model.save(model, 'model_20_4_percentage_error')"
   ]
  },
  {
   "cell_type": "code",
   "execution_count": 103,
   "metadata": {},
   "outputs": [
    {
     "name": "stdout",
     "output_type": "stream",
     "text": [
      "27/27 [==============================] - 0s 2ms/step\n",
      "AVERAGE PERCENTAGE ERROR =  [21.21396685]\n"
     ]
    }
   ],
   "source": [
    "new_mod = tf.keras.models.load_model('model_20_4_percentage_error')\n",
    "index = 0\n",
    "percentage_totals = 0\n",
    "for item in new_mod.predict([test_set_names_tensor, test_set_tensor, test_set_one_hot_fuel_tensor, test_set_one_hot_seller_type_tensor, test_set_one_hot_transmission_tensor]):\n",
    "  # print(f'(predicted, actual) = ({item[0]},{test_set_labels_tensor[index].numpy()})')\n",
    "  # print(f\"predicted - actual = {item[0] - test_set_labels_tensor[index].numpy()}\")\n",
    "\n",
    "  percentage_error = ((test_set_labels_tensor[index].numpy() - item[0]) / test_set_labels_tensor[index].numpy() ) * 100\n",
    "  # print(\"percentage_error = \", percentage_error)\n",
    "\n",
    "  percentage_totals += abs(percentage_error)\n",
    "  \n",
    "  index += 1\n",
    "\n",
    "\n",
    "\n",
    "print(\"AVERAGE PERCENTAGE ERROR = \", percentage_totals / len(test_set_labels_tensor))"
   ]
  },
  {
   "cell_type": "code",
   "execution_count": 104,
   "metadata": {},
   "outputs": [],
   "source": [
    "import pickle\n",
    "\n",
    "with open('model_20_4_percentage_error_history', 'wb') as file_pi:\n",
    "    pickle.dump(history.history, file_pi)"
   ]
  },
  {
   "cell_type": "markdown",
   "metadata": {},
   "source": [
    "## Loading Model and Training data"
   ]
  },
  {
   "cell_type": "code",
   "execution_count": 105,
   "metadata": {},
   "outputs": [],
   "source": [
    "# loaded_model = tf.keras.models.load_model('model_20_4_percentage_error')\n"
   ]
  },
  {
   "cell_type": "code",
   "execution_count": 106,
   "metadata": {},
   "outputs": [],
   "source": [
    "# def load_pkl_model_history(pkl_file_name):\n",
    "#     with open(pkl_file_name, \"rb\") as file_pi:\n",
    "#         history = pickle.load(file_pi)\n",
    "\n",
    "#     return history"
   ]
  }
 ],
 "metadata": {
  "kernelspec": {
   "display_name": "Python 3",
   "language": "python",
   "name": "python3"
  },
  "language_info": {
   "codemirror_mode": {
    "name": "ipython",
    "version": 3
   },
   "file_extension": ".py",
   "mimetype": "text/x-python",
   "name": "python",
   "nbconvert_exporter": "python",
   "pygments_lexer": "ipython3",
   "version": "3.11.3"
  },
  "metadata": {
   "interpreter": {
    "hash": "4cd7ab41f5fca4b9b44701077e38c5ffd31fe66a6cab21e0214b68d958d0e462"
   }
  },
  "orig_nbformat": 2
 },
 "nbformat": 4,
 "nbformat_minor": 2
}
